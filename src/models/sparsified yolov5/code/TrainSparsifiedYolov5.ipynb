{
  "nbformat": 4,
  "nbformat_minor": 0,
  "metadata": {
    "colab": {
      "provenance": [],
      "collapsed_sections": []
    },
    "kernelspec": {
      "name": "python3",
      "display_name": "Python 3"
    },
    "language_info": {
      "name": "python"
    },
    "gpuClass": "standard",
    "accelerator": "GPU"
  },
  "cells": [
    {
      "cell_type": "markdown",
      "source": [
        "#ترین yolo5‌ اسپارس شده با داده های کاستوم "
      ],
      "metadata": {
        "id": "kJpLQvcbm4r4"
      }
    },
    {
      "cell_type": "code",
      "source": [
        "!pip install torch==1.9.1\n",
        "!pip install sparseml[torchvision]\n",
        "# ! pip install git+https://github.com/neuralmagic/sparseml.git"
      ],
      "metadata": {
        "colab": {
          "base_uri": "https://localhost:8080/",
          "height": 1000
        },
        "id": "Qo2Ac927BLLA",
        "outputId": "cbf95178-8abe-479e-af69-ba117a00dd10"
      },
      "execution_count": null,
      "outputs": [
        {
          "output_type": "stream",
          "name": "stdout",
          "text": [
            "Looking in indexes: https://pypi.org/simple, https://us-python.pkg.dev/colab-wheels/public/simple/\n",
            "Collecting torch==1.9.1\n",
            "  Downloading torch-1.9.1-cp37-cp37m-manylinux1_x86_64.whl (831.4 MB)\n",
            "\u001b[K     |████████████████████████████████| 831.4 MB 7.1 kB/s \n",
            "\u001b[?25hRequirement already satisfied: typing-extensions in /usr/local/lib/python3.7/dist-packages (from torch==1.9.1) (4.1.1)\n",
            "Installing collected packages: torch\n",
            "  Attempting uninstall: torch\n",
            "    Found existing installation: torch 1.12.1+cu113\n",
            "    Uninstalling torch-1.12.1+cu113:\n",
            "      Successfully uninstalled torch-1.12.1+cu113\n",
            "\u001b[31mERROR: pip's dependency resolver does not currently take into account all the packages that are installed. This behaviour is the source of the following dependency conflicts.\n",
            "torchvision 0.13.1+cu113 requires torch==1.12.1, but you have torch 1.9.1 which is incompatible.\n",
            "torchtext 0.13.1 requires torch==1.12.1, but you have torch 1.9.1 which is incompatible.\n",
            "torchaudio 0.12.1+cu113 requires torch==1.12.1, but you have torch 1.9.1 which is incompatible.\u001b[0m\n",
            "Successfully installed torch-1.9.1\n",
            "Looking in indexes: https://pypi.org/simple, https://us-python.pkg.dev/colab-wheels/public/simple/\n",
            "Collecting sparseml[torchvision]\n",
            "  Downloading sparseml-1.1.1-py3-none-any.whl (816 kB)\n",
            "\u001b[K     |████████████████████████████████| 816 kB 32.3 MB/s \n",
            "\u001b[?25hRequirement already satisfied: packaging>=20.0 in /usr/local/lib/python3.7/dist-packages (from sparseml[torchvision]) (21.3)\n",
            "Requirement already satisfied: scipy>=1.0.0 in /usr/local/lib/python3.7/dist-packages (from sparseml[torchvision]) (1.7.3)\n",
            "Collecting toposort>=1.0\n",
            "  Downloading toposort-1.7-py2.py3-none-any.whl (9.0 kB)\n",
            "Requirement already satisfied: setuptools<=59.5.0 in /usr/local/lib/python3.7/dist-packages (from sparseml[torchvision]) (57.4.0)\n",
            "Requirement already satisfied: matplotlib>=3.0.0 in /usr/local/lib/python3.7/dist-packages (from sparseml[torchvision]) (3.2.2)\n",
            "Requirement already satisfied: tqdm>=4.0.0 in /usr/local/lib/python3.7/dist-packages (from sparseml[torchvision]) (4.64.1)\n",
            "Requirement already satisfied: numpy>=1.0.0 in /usr/local/lib/python3.7/dist-packages (from sparseml[torchvision]) (1.21.6)\n",
            "Requirement already satisfied: pydantic>=1.5.0 in /usr/local/lib/python3.7/dist-packages (from sparseml[torchvision]) (1.9.2)\n",
            "Requirement already satisfied: protobuf<4,>=3.12.2 in /usr/local/lib/python3.7/dist-packages (from sparseml[torchvision]) (3.17.3)\n",
            "Requirement already satisfied: progressbar2>=3.0.0 in /usr/local/lib/python3.7/dist-packages (from sparseml[torchvision]) (3.38.0)\n",
            "Requirement already satisfied: scikit-image>=0.15.0 in /usr/local/lib/python3.7/dist-packages (from sparseml[torchvision]) (0.18.3)\n",
            "Collecting onnx<=1.10.1,>=1.5.0\n",
            "  Downloading onnx-1.10.1-cp37-cp37m-manylinux_2_12_x86_64.manylinux2010_x86_64.whl (12.3 MB)\n",
            "\u001b[K     |████████████████████████████████| 12.3 MB 52.7 MB/s \n",
            "\u001b[?25hRequirement already satisfied: click~=8.0.0 in /usr/local/lib/python3.7/dist-packages (from sparseml[torchvision]) (8.0.4)\n",
            "Requirement already satisfied: pyyaml>=5.0.0 in /usr/local/lib/python3.7/dist-packages (from sparseml[torchvision]) (6.0)\n",
            "Requirement already satisfied: requests>=2.0.0 in /usr/local/lib/python3.7/dist-packages (from sparseml[torchvision]) (2.23.0)\n",
            "Collecting GPUtil>=1.4.0\n",
            "  Downloading GPUtil-1.4.0.tar.gz (5.5 kB)\n",
            "Collecting merge-args>=0.1.0\n",
            "  Downloading merge_args-0.1.4-py2.py3-none-any.whl (5.8 kB)\n",
            "Requirement already satisfied: ipywidgets>=7.0.0 in /usr/local/lib/python3.7/dist-packages (from sparseml[torchvision]) (7.7.1)\n",
            "Requirement already satisfied: pandas>=0.25.0 in /usr/local/lib/python3.7/dist-packages (from sparseml[torchvision]) (1.3.5)\n",
            "Requirement already satisfied: sparsezoo~=1.1.0 in /usr/local/lib/python3.7/dist-packages (from sparseml[torchvision]) (1.1.0)\n",
            "Collecting jupyter>=1.0.0\n",
            "  Downloading jupyter-1.0.0-py2.py3-none-any.whl (2.7 kB)\n",
            "Requirement already satisfied: psutil>=5.0.0 in /usr/local/lib/python3.7/dist-packages (from sparseml[torchvision]) (5.4.8)\n",
            "Collecting tensorboardX>=1.0\n",
            "  Downloading tensorboardX-2.5.1-py2.py3-none-any.whl (125 kB)\n",
            "\u001b[K     |████████████████████████████████| 125 kB 69.5 MB/s \n",
            "\u001b[?25hRequirement already satisfied: tensorboard<2.9,>=1.0 in /usr/local/lib/python3.7/dist-packages (from sparseml[torchvision]) (2.8.0)\n",
            "Requirement already satisfied: torch<=1.9.1,>=1.1.0 in /usr/local/lib/python3.7/dist-packages (from sparseml[torchvision]) (1.9.1)\n",
            "Collecting gputils\n",
            "  Downloading gputils-1.0.6-py3-none-any.whl (3.8 kB)\n",
            "Collecting torchvision<=0.10.1,>=0.3.0\n",
            "  Downloading torchvision-0.10.1-cp37-cp37m-manylinux1_x86_64.whl (22.1 MB)\n",
            "\u001b[K     |████████████████████████████████| 22.1 MB 1.2 MB/s \n",
            "\u001b[?25hRequirement already satisfied: importlib-metadata in /usr/local/lib/python3.7/dist-packages (from click~=8.0.0->sparseml[torchvision]) (4.12.0)\n",
            "Requirement already satisfied: ipykernel>=4.5.1 in /usr/local/lib/python3.7/dist-packages (from ipywidgets>=7.0.0->sparseml[torchvision]) (5.3.4)\n",
            "Requirement already satisfied: ipython>=4.0.0 in /usr/local/lib/python3.7/dist-packages (from ipywidgets>=7.0.0->sparseml[torchvision]) (7.9.0)\n",
            "Requirement already satisfied: jupyterlab-widgets>=1.0.0 in /usr/local/lib/python3.7/dist-packages (from ipywidgets>=7.0.0->sparseml[torchvision]) (3.0.3)\n",
            "Requirement already satisfied: traitlets>=4.3.1 in /usr/local/lib/python3.7/dist-packages (from ipywidgets>=7.0.0->sparseml[torchvision]) (5.1.1)\n",
            "Requirement already satisfied: ipython-genutils~=0.2.0 in /usr/local/lib/python3.7/dist-packages (from ipywidgets>=7.0.0->sparseml[torchvision]) (0.2.0)\n",
            "Requirement already satisfied: widgetsnbextension~=3.6.0 in /usr/local/lib/python3.7/dist-packages (from ipywidgets>=7.0.0->sparseml[torchvision]) (3.6.1)\n",
            "Requirement already satisfied: jupyter-client in /usr/local/lib/python3.7/dist-packages (from ipykernel>=4.5.1->ipywidgets>=7.0.0->sparseml[torchvision]) (6.1.12)\n",
            "Requirement already satisfied: tornado>=4.2 in /usr/local/lib/python3.7/dist-packages (from ipykernel>=4.5.1->ipywidgets>=7.0.0->sparseml[torchvision]) (5.1.1)\n",
            "Requirement already satisfied: pickleshare in /usr/local/lib/python3.7/dist-packages (from ipython>=4.0.0->ipywidgets>=7.0.0->sparseml[torchvision]) (0.7.5)\n",
            "Requirement already satisfied: pygments in /usr/local/lib/python3.7/dist-packages (from ipython>=4.0.0->ipywidgets>=7.0.0->sparseml[torchvision]) (2.6.1)\n",
            "Requirement already satisfied: decorator in /usr/local/lib/python3.7/dist-packages (from ipython>=4.0.0->ipywidgets>=7.0.0->sparseml[torchvision]) (4.4.2)\n",
            "Requirement already satisfied: backcall in /usr/local/lib/python3.7/dist-packages (from ipython>=4.0.0->ipywidgets>=7.0.0->sparseml[torchvision]) (0.2.0)\n",
            "Collecting jedi>=0.10\n",
            "  Downloading jedi-0.18.1-py2.py3-none-any.whl (1.6 MB)\n",
            "\u001b[K     |████████████████████████████████| 1.6 MB 60.9 MB/s \n",
            "\u001b[?25hRequirement already satisfied: pexpect in /usr/local/lib/python3.7/dist-packages (from ipython>=4.0.0->ipywidgets>=7.0.0->sparseml[torchvision]) (4.8.0)\n",
            "Requirement already satisfied: prompt-toolkit<2.1.0,>=2.0.0 in /usr/local/lib/python3.7/dist-packages (from ipython>=4.0.0->ipywidgets>=7.0.0->sparseml[torchvision]) (2.0.10)\n",
            "Requirement already satisfied: parso<0.9.0,>=0.8.0 in /usr/local/lib/python3.7/dist-packages (from jedi>=0.10->ipython>=4.0.0->ipywidgets>=7.0.0->sparseml[torchvision]) (0.8.3)\n",
            "Collecting qtconsole\n",
            "  Downloading qtconsole-5.3.2-py3-none-any.whl (120 kB)\n",
            "\u001b[K     |████████████████████████████████| 120 kB 60.3 MB/s \n",
            "\u001b[?25hRequirement already satisfied: nbconvert in /usr/local/lib/python3.7/dist-packages (from jupyter>=1.0.0->sparseml[torchvision]) (5.6.1)\n",
            "Requirement already satisfied: jupyter-console in /usr/local/lib/python3.7/dist-packages (from jupyter>=1.0.0->sparseml[torchvision]) (6.1.0)\n",
            "Requirement already satisfied: notebook in /usr/local/lib/python3.7/dist-packages (from jupyter>=1.0.0->sparseml[torchvision]) (5.3.1)\n",
            "Requirement already satisfied: kiwisolver>=1.0.1 in /usr/local/lib/python3.7/dist-packages (from matplotlib>=3.0.0->sparseml[torchvision]) (1.4.4)\n",
            "Requirement already satisfied: python-dateutil>=2.1 in /usr/local/lib/python3.7/dist-packages (from matplotlib>=3.0.0->sparseml[torchvision]) (2.8.2)\n",
            "Requirement already satisfied: cycler>=0.10 in /usr/local/lib/python3.7/dist-packages (from matplotlib>=3.0.0->sparseml[torchvision]) (0.11.0)\n",
            "Requirement already satisfied: pyparsing!=2.0.4,!=2.1.2,!=2.1.6,>=2.0.1 in /usr/local/lib/python3.7/dist-packages (from matplotlib>=3.0.0->sparseml[torchvision]) (3.0.9)\n",
            "Requirement already satisfied: typing-extensions in /usr/local/lib/python3.7/dist-packages (from kiwisolver>=1.0.1->matplotlib>=3.0.0->sparseml[torchvision]) (4.1.1)\n",
            "Requirement already satisfied: six in /usr/local/lib/python3.7/dist-packages (from onnx<=1.10.1,>=1.5.0->sparseml[torchvision]) (1.15.0)\n",
            "Requirement already satisfied: pytz>=2017.3 in /usr/local/lib/python3.7/dist-packages (from pandas>=0.25.0->sparseml[torchvision]) (2022.2.1)\n",
            "Requirement already satisfied: python-utils>=2.3.0 in /usr/local/lib/python3.7/dist-packages (from progressbar2>=3.0.0->sparseml[torchvision]) (3.3.3)\n",
            "Requirement already satisfied: wcwidth in /usr/local/lib/python3.7/dist-packages (from prompt-toolkit<2.1.0,>=2.0.0->ipython>=4.0.0->ipywidgets>=7.0.0->sparseml[torchvision]) (0.2.5)\n",
            "Requirement already satisfied: idna<3,>=2.5 in /usr/local/lib/python3.7/dist-packages (from requests>=2.0.0->sparseml[torchvision]) (2.10)\n",
            "Requirement already satisfied: certifi>=2017.4.17 in /usr/local/lib/python3.7/dist-packages (from requests>=2.0.0->sparseml[torchvision]) (2022.6.15)\n",
            "Requirement already satisfied: chardet<4,>=3.0.2 in /usr/local/lib/python3.7/dist-packages (from requests>=2.0.0->sparseml[torchvision]) (3.0.4)\n",
            "Requirement already satisfied: urllib3!=1.25.0,!=1.25.1,<1.26,>=1.21.1 in /usr/local/lib/python3.7/dist-packages (from requests>=2.0.0->sparseml[torchvision]) (1.24.3)\n",
            "Requirement already satisfied: PyWavelets>=1.1.1 in /usr/local/lib/python3.7/dist-packages (from scikit-image>=0.15.0->sparseml[torchvision]) (1.3.0)\n",
            "Requirement already satisfied: imageio>=2.3.0 in /usr/local/lib/python3.7/dist-packages (from scikit-image>=0.15.0->sparseml[torchvision]) (2.9.0)\n",
            "Requirement already satisfied: pillow!=7.1.0,!=7.1.1,>=4.3.0 in /usr/local/lib/python3.7/dist-packages (from scikit-image>=0.15.0->sparseml[torchvision]) (7.1.2)\n",
            "Requirement already satisfied: networkx>=2.0 in /usr/local/lib/python3.7/dist-packages (from scikit-image>=0.15.0->sparseml[torchvision]) (2.6.3)\n",
            "Requirement already satisfied: tifffile>=2019.7.26 in /usr/local/lib/python3.7/dist-packages (from scikit-image>=0.15.0->sparseml[torchvision]) (2021.11.2)\n",
            "Requirement already satisfied: absl-py>=0.4 in /usr/local/lib/python3.7/dist-packages (from tensorboard<2.9,>=1.0->sparseml[torchvision]) (1.2.0)\n",
            "Requirement already satisfied: wheel>=0.26 in /usr/local/lib/python3.7/dist-packages (from tensorboard<2.9,>=1.0->sparseml[torchvision]) (0.37.1)\n",
            "Requirement already satisfied: markdown>=2.6.8 in /usr/local/lib/python3.7/dist-packages (from tensorboard<2.9,>=1.0->sparseml[torchvision]) (3.4.1)\n",
            "Requirement already satisfied: google-auth-oauthlib<0.5,>=0.4.1 in /usr/local/lib/python3.7/dist-packages (from tensorboard<2.9,>=1.0->sparseml[torchvision]) (0.4.6)\n",
            "Requirement already satisfied: grpcio>=1.24.3 in /usr/local/lib/python3.7/dist-packages (from tensorboard<2.9,>=1.0->sparseml[torchvision]) (1.48.1)\n",
            "Requirement already satisfied: tensorboard-plugin-wit>=1.6.0 in /usr/local/lib/python3.7/dist-packages (from tensorboard<2.9,>=1.0->sparseml[torchvision]) (1.8.1)\n",
            "Requirement already satisfied: werkzeug>=0.11.15 in /usr/local/lib/python3.7/dist-packages (from tensorboard<2.9,>=1.0->sparseml[torchvision]) (1.0.1)\n",
            "Requirement already satisfied: tensorboard-data-server<0.7.0,>=0.6.0 in /usr/local/lib/python3.7/dist-packages (from tensorboard<2.9,>=1.0->sparseml[torchvision]) (0.6.1)\n",
            "Requirement already satisfied: google-auth<3,>=1.6.3 in /usr/local/lib/python3.7/dist-packages (from tensorboard<2.9,>=1.0->sparseml[torchvision]) (1.35.0)\n",
            "Requirement already satisfied: cachetools<5.0,>=2.0.0 in /usr/local/lib/python3.7/dist-packages (from google-auth<3,>=1.6.3->tensorboard<2.9,>=1.0->sparseml[torchvision]) (4.2.4)\n",
            "Requirement already satisfied: pyasn1-modules>=0.2.1 in /usr/local/lib/python3.7/dist-packages (from google-auth<3,>=1.6.3->tensorboard<2.9,>=1.0->sparseml[torchvision]) (0.2.8)\n",
            "Requirement already satisfied: rsa<5,>=3.1.4 in /usr/local/lib/python3.7/dist-packages (from google-auth<3,>=1.6.3->tensorboard<2.9,>=1.0->sparseml[torchvision]) (4.9)\n",
            "Requirement already satisfied: requests-oauthlib>=0.7.0 in /usr/local/lib/python3.7/dist-packages (from google-auth-oauthlib<0.5,>=0.4.1->tensorboard<2.9,>=1.0->sparseml[torchvision]) (1.3.1)\n",
            "Requirement already satisfied: zipp>=0.5 in /usr/local/lib/python3.7/dist-packages (from importlib-metadata->click~=8.0.0->sparseml[torchvision]) (3.8.1)\n",
            "Requirement already satisfied: pyasn1<0.5.0,>=0.4.6 in /usr/local/lib/python3.7/dist-packages (from pyasn1-modules>=0.2.1->google-auth<3,>=1.6.3->tensorboard<2.9,>=1.0->sparseml[torchvision]) (0.4.8)\n",
            "Requirement already satisfied: oauthlib>=3.0.0 in /usr/local/lib/python3.7/dist-packages (from requests-oauthlib>=0.7.0->google-auth-oauthlib<0.5,>=0.4.1->tensorboard<2.9,>=1.0->sparseml[torchvision]) (3.2.0)\n",
            "Requirement already satisfied: nbformat in /usr/local/lib/python3.7/dist-packages (from notebook->jupyter>=1.0.0->sparseml[torchvision]) (5.4.0)\n",
            "Requirement already satisfied: Send2Trash in /usr/local/lib/python3.7/dist-packages (from notebook->jupyter>=1.0.0->sparseml[torchvision]) (1.8.0)\n",
            "Requirement already satisfied: jupyter-core>=4.4.0 in /usr/local/lib/python3.7/dist-packages (from notebook->jupyter>=1.0.0->sparseml[torchvision]) (4.11.1)\n",
            "Requirement already satisfied: jinja2 in /usr/local/lib/python3.7/dist-packages (from notebook->jupyter>=1.0.0->sparseml[torchvision]) (2.11.3)\n",
            "Requirement already satisfied: terminado>=0.8.1 in /usr/local/lib/python3.7/dist-packages (from notebook->jupyter>=1.0.0->sparseml[torchvision]) (0.13.3)\n",
            "Requirement already satisfied: pyzmq>=13 in /usr/local/lib/python3.7/dist-packages (from jupyter-client->ipykernel>=4.5.1->ipywidgets>=7.0.0->sparseml[torchvision]) (23.2.1)\n",
            "Requirement already satisfied: ptyprocess in /usr/local/lib/python3.7/dist-packages (from terminado>=0.8.1->notebook->jupyter>=1.0.0->sparseml[torchvision]) (0.7.0)\n",
            "Requirement already satisfied: MarkupSafe>=0.23 in /usr/local/lib/python3.7/dist-packages (from jinja2->notebook->jupyter>=1.0.0->sparseml[torchvision]) (2.0.1)\n",
            "Requirement already satisfied: defusedxml in /usr/local/lib/python3.7/dist-packages (from nbconvert->jupyter>=1.0.0->sparseml[torchvision]) (0.7.1)\n",
            "Requirement already satisfied: bleach in /usr/local/lib/python3.7/dist-packages (from nbconvert->jupyter>=1.0.0->sparseml[torchvision]) (5.0.1)\n",
            "Requirement already satisfied: testpath in /usr/local/lib/python3.7/dist-packages (from nbconvert->jupyter>=1.0.0->sparseml[torchvision]) (0.6.0)\n",
            "Requirement already satisfied: mistune<2,>=0.8.1 in /usr/local/lib/python3.7/dist-packages (from nbconvert->jupyter>=1.0.0->sparseml[torchvision]) (0.8.4)\n",
            "Requirement already satisfied: entrypoints>=0.2.2 in /usr/local/lib/python3.7/dist-packages (from nbconvert->jupyter>=1.0.0->sparseml[torchvision]) (0.4)\n",
            "Requirement already satisfied: pandocfilters>=1.4.1 in /usr/local/lib/python3.7/dist-packages (from nbconvert->jupyter>=1.0.0->sparseml[torchvision]) (1.5.0)\n",
            "Requirement already satisfied: fastjsonschema in /usr/local/lib/python3.7/dist-packages (from nbformat->notebook->jupyter>=1.0.0->sparseml[torchvision]) (2.16.1)\n",
            "Requirement already satisfied: jsonschema>=2.6 in /usr/local/lib/python3.7/dist-packages (from nbformat->notebook->jupyter>=1.0.0->sparseml[torchvision]) (4.3.3)\n",
            "Requirement already satisfied: pyrsistent!=0.17.0,!=0.17.1,!=0.17.2,>=0.14.0 in /usr/local/lib/python3.7/dist-packages (from jsonschema>=2.6->nbformat->notebook->jupyter>=1.0.0->sparseml[torchvision]) (0.18.1)\n",
            "Requirement already satisfied: attrs>=17.4.0 in /usr/local/lib/python3.7/dist-packages (from jsonschema>=2.6->nbformat->notebook->jupyter>=1.0.0->sparseml[torchvision]) (22.1.0)\n",
            "Requirement already satisfied: importlib-resources>=1.4.0 in /usr/local/lib/python3.7/dist-packages (from jsonschema>=2.6->nbformat->notebook->jupyter>=1.0.0->sparseml[torchvision]) (5.9.0)\n",
            "Requirement already satisfied: webencodings in /usr/local/lib/python3.7/dist-packages (from bleach->nbconvert->jupyter>=1.0.0->sparseml[torchvision]) (0.5.1)\n",
            "Collecting qtpy>=2.0.1\n",
            "  Downloading QtPy-2.2.0-py3-none-any.whl (82 kB)\n",
            "\u001b[K     |████████████████████████████████| 82 kB 653 kB/s \n",
            "\u001b[?25hBuilding wheels for collected packages: GPUtil\n",
            "  Building wheel for GPUtil (setup.py) ... \u001b[?25l\u001b[?25hdone\n",
            "  Created wheel for GPUtil: filename=GPUtil-1.4.0-py3-none-any.whl size=7411 sha256=b506260fcaab062e58304f2f180d417a59b294dbe3f7dff0facd8be3c71955ac\n",
            "  Stored in directory: /root/.cache/pip/wheels/6e/f8/83/534c52482d6da64622ddbf72cd93c35d2ef2881b78fd08ff0c\n",
            "Successfully built GPUtil\n",
            "Installing collected packages: jedi, qtpy, qtconsole, onnx, toposort, merge-args, jupyter, GPUtil, torchvision, tensorboardX, sparseml, gputils\n",
            "  Attempting uninstall: onnx\n",
            "    Found existing installation: onnx 1.12.0\n",
            "    Uninstalling onnx-1.12.0:\n",
            "      Successfully uninstalled onnx-1.12.0\n",
            "  Attempting uninstall: torchvision\n",
            "    Found existing installation: torchvision 0.13.1+cu113\n",
            "    Uninstalling torchvision-0.13.1+cu113:\n",
            "      Successfully uninstalled torchvision-0.13.1+cu113\n",
            "Successfully installed GPUtil-1.4.0 gputils-1.0.6 jedi-0.18.1 jupyter-1.0.0 merge-args-0.1.4 onnx-1.10.1 qtconsole-5.3.2 qtpy-2.2.0 sparseml-1.1.1 tensorboardX-2.5.1 toposort-1.7 torchvision-0.10.1\n"
          ]
        },
        {
          "output_type": "display_data",
          "data": {
            "application/vnd.colab-display-data+json": {
              "pip_warning": {
                "packages": [
                  "onnx"
                ]
              }
            }
          },
          "metadata": {}
        }
      ]
    },
    {
      "cell_type": "code",
      "source": [
        "!pip show sparseml "
      ],
      "metadata": {
        "colab": {
          "base_uri": "https://localhost:8080/"
        },
        "id": "lwAullp1M60l",
        "outputId": "35bcee37-4897-4f40-9b48-a67bbeaafca2"
      },
      "execution_count": null,
      "outputs": [
        {
          "output_type": "stream",
          "name": "stdout",
          "text": [
            "Name: sparseml\n",
            "Version: 1.1.1\n",
            "Summary: Libraries for applying sparsification recipes to neural networks with a few lines of code, enabling faster and smaller models\n",
            "Home-page: https://github.com/neuralmagic/sparseml\n",
            "Author: Neuralmagic, Inc.\n",
            "Author-email: support@neuralmagic.com\n",
            "License: Apache\n",
            "Location: /usr/local/lib/python3.7/dist-packages\n",
            "Requires: setuptools, scikit-image, scipy, onnx, sparsezoo, packaging, psutil, pandas, jupyter, merge-args, toposort, protobuf, pyyaml, matplotlib, ipywidgets, GPUtil, click, numpy, requests, tqdm, progressbar2, pydantic\n",
            "Required-by: \n"
          ]
        }
      ]
    },
    {
      "cell_type": "code",
      "source": [
        "# !pip install pytorch\n",
        "# !pip install torch==1.9.1"
      ],
      "metadata": {
        "id": "On5AVFC5rTiU"
      },
      "execution_count": null,
      "outputs": []
    },
    {
      "cell_type": "code",
      "source": [
        "\n",
        "# !pip install deepsparse"
      ],
      "metadata": {
        "id": "bAr1S925_Naw"
      },
      "execution_count": null,
      "outputs": []
    },
    {
      "cell_type": "code",
      "source": [
        "!pip install https://github.com/neuralmagic/yolov5/releases/download/nightly/yolov5-6.1.0-py3-none-any.whl"
      ],
      "metadata": {
        "colab": {
          "base_uri": "https://localhost:8080/"
        },
        "id": "XwvgZl4BCs4f",
        "outputId": "fbcdb268-61dc-45d4-b9eb-7a9e35521104"
      },
      "execution_count": null,
      "outputs": [
        {
          "output_type": "stream",
          "name": "stdout",
          "text": [
            "Looking in indexes: https://pypi.org/simple, https://us-python.pkg.dev/colab-wheels/public/simple/\n",
            "Collecting yolov5==6.1.0\n",
            "  Downloading https://github.com/neuralmagic/yolov5/releases/download/nightly/yolov5-6.1.0-py3-none-any.whl (167 kB)\n",
            "\u001b[K     |████████████████████████████████| 167 kB 24.8 MB/s \n",
            "\u001b[?25hRequirement already satisfied: requests>=2.23.0 in /usr/local/lib/python3.7/dist-packages (from yolov5==6.1.0) (2.23.0)\n",
            "Requirement already satisfied: tensorboard>=2.4.1 in /usr/local/lib/python3.7/dist-packages (from yolov5==6.1.0) (2.8.0)\n",
            "Requirement already satisfied: PyYAML>=5.3.1 in /usr/local/lib/python3.7/dist-packages (from yolov5==6.1.0) (6.0)\n",
            "Requirement already satisfied: pandas>=1.1.4 in /usr/local/lib/python3.7/dist-packages (from yolov5==6.1.0) (1.3.5)\n",
            "Requirement already satisfied: Pillow>=7.1.2 in /usr/local/lib/python3.7/dist-packages (from yolov5==6.1.0) (7.1.2)\n",
            "Requirement already satisfied: tqdm>=4.41.0 in /usr/local/lib/python3.7/dist-packages (from yolov5==6.1.0) (4.64.1)\n",
            "Requirement already satisfied: seaborn>=0.11.0 in /usr/local/lib/python3.7/dist-packages (from yolov5==6.1.0) (0.11.2)\n",
            "Requirement already satisfied: numpy>=1.18.5 in /usr/local/lib/python3.7/dist-packages (from yolov5==6.1.0) (1.21.6)\n",
            "Requirement already satisfied: thop in /usr/local/lib/python3.7/dist-packages (from yolov5==6.1.0) (0.1.1.post2209072238)\n",
            "Requirement already satisfied: scipy>=1.4.1 in /usr/local/lib/python3.7/dist-packages (from yolov5==6.1.0) (1.7.3)\n",
            "Requirement already satisfied: opencv-python>=4.1.2 in /usr/local/lib/python3.7/dist-packages (from yolov5==6.1.0) (4.6.0.66)\n",
            "Requirement already satisfied: matplotlib>=3.2.2 in /usr/local/lib/python3.7/dist-packages (from yolov5==6.1.0) (3.2.2)\n",
            "Requirement already satisfied: kiwisolver>=1.0.1 in /usr/local/lib/python3.7/dist-packages (from matplotlib>=3.2.2->yolov5==6.1.0) (1.4.4)\n",
            "Requirement already satisfied: cycler>=0.10 in /usr/local/lib/python3.7/dist-packages (from matplotlib>=3.2.2->yolov5==6.1.0) (0.11.0)\n",
            "Requirement already satisfied: python-dateutil>=2.1 in /usr/local/lib/python3.7/dist-packages (from matplotlib>=3.2.2->yolov5==6.1.0) (2.8.2)\n",
            "Requirement already satisfied: pyparsing!=2.0.4,!=2.1.2,!=2.1.6,>=2.0.1 in /usr/local/lib/python3.7/dist-packages (from matplotlib>=3.2.2->yolov5==6.1.0) (3.0.9)\n",
            "Requirement already satisfied: typing-extensions in /usr/local/lib/python3.7/dist-packages (from kiwisolver>=1.0.1->matplotlib>=3.2.2->yolov5==6.1.0) (4.1.1)\n",
            "Requirement already satisfied: pytz>=2017.3 in /usr/local/lib/python3.7/dist-packages (from pandas>=1.1.4->yolov5==6.1.0) (2022.2.1)\n",
            "Requirement already satisfied: six>=1.5 in /usr/local/lib/python3.7/dist-packages (from python-dateutil>=2.1->matplotlib>=3.2.2->yolov5==6.1.0) (1.15.0)\n",
            "Requirement already satisfied: chardet<4,>=3.0.2 in /usr/local/lib/python3.7/dist-packages (from requests>=2.23.0->yolov5==6.1.0) (3.0.4)\n",
            "Requirement already satisfied: idna<3,>=2.5 in /usr/local/lib/python3.7/dist-packages (from requests>=2.23.0->yolov5==6.1.0) (2.10)\n",
            "Requirement already satisfied: certifi>=2017.4.17 in /usr/local/lib/python3.7/dist-packages (from requests>=2.23.0->yolov5==6.1.0) (2022.6.15)\n",
            "Requirement already satisfied: urllib3!=1.25.0,!=1.25.1,<1.26,>=1.21.1 in /usr/local/lib/python3.7/dist-packages (from requests>=2.23.0->yolov5==6.1.0) (1.24.3)\n",
            "Requirement already satisfied: tensorboard-data-server<0.7.0,>=0.6.0 in /usr/local/lib/python3.7/dist-packages (from tensorboard>=2.4.1->yolov5==6.1.0) (0.6.1)\n",
            "Requirement already satisfied: tensorboard-plugin-wit>=1.6.0 in /usr/local/lib/python3.7/dist-packages (from tensorboard>=2.4.1->yolov5==6.1.0) (1.8.1)\n",
            "Requirement already satisfied: werkzeug>=0.11.15 in /usr/local/lib/python3.7/dist-packages (from tensorboard>=2.4.1->yolov5==6.1.0) (1.0.1)\n",
            "Requirement already satisfied: setuptools>=41.0.0 in /usr/local/lib/python3.7/dist-packages (from tensorboard>=2.4.1->yolov5==6.1.0) (57.4.0)\n",
            "Requirement already satisfied: protobuf>=3.6.0 in /usr/local/lib/python3.7/dist-packages (from tensorboard>=2.4.1->yolov5==6.1.0) (3.17.3)\n",
            "Requirement already satisfied: absl-py>=0.4 in /usr/local/lib/python3.7/dist-packages (from tensorboard>=2.4.1->yolov5==6.1.0) (1.2.0)\n",
            "Requirement already satisfied: google-auth-oauthlib<0.5,>=0.4.1 in /usr/local/lib/python3.7/dist-packages (from tensorboard>=2.4.1->yolov5==6.1.0) (0.4.6)\n",
            "Requirement already satisfied: google-auth<3,>=1.6.3 in /usr/local/lib/python3.7/dist-packages (from tensorboard>=2.4.1->yolov5==6.1.0) (1.35.0)\n",
            "Requirement already satisfied: markdown>=2.6.8 in /usr/local/lib/python3.7/dist-packages (from tensorboard>=2.4.1->yolov5==6.1.0) (3.4.1)\n",
            "Requirement already satisfied: wheel>=0.26 in /usr/local/lib/python3.7/dist-packages (from tensorboard>=2.4.1->yolov5==6.1.0) (0.37.1)\n",
            "Requirement already satisfied: grpcio>=1.24.3 in /usr/local/lib/python3.7/dist-packages (from tensorboard>=2.4.1->yolov5==6.1.0) (1.48.1)\n",
            "Requirement already satisfied: rsa<5,>=3.1.4 in /usr/local/lib/python3.7/dist-packages (from google-auth<3,>=1.6.3->tensorboard>=2.4.1->yolov5==6.1.0) (4.9)\n",
            "Requirement already satisfied: cachetools<5.0,>=2.0.0 in /usr/local/lib/python3.7/dist-packages (from google-auth<3,>=1.6.3->tensorboard>=2.4.1->yolov5==6.1.0) (4.2.4)\n",
            "Requirement already satisfied: pyasn1-modules>=0.2.1 in /usr/local/lib/python3.7/dist-packages (from google-auth<3,>=1.6.3->tensorboard>=2.4.1->yolov5==6.1.0) (0.2.8)\n",
            "Requirement already satisfied: requests-oauthlib>=0.7.0 in /usr/local/lib/python3.7/dist-packages (from google-auth-oauthlib<0.5,>=0.4.1->tensorboard>=2.4.1->yolov5==6.1.0) (1.3.1)\n",
            "Requirement already satisfied: importlib-metadata>=4.4 in /usr/local/lib/python3.7/dist-packages (from markdown>=2.6.8->tensorboard>=2.4.1->yolov5==6.1.0) (4.12.0)\n",
            "Requirement already satisfied: zipp>=0.5 in /usr/local/lib/python3.7/dist-packages (from importlib-metadata>=4.4->markdown>=2.6.8->tensorboard>=2.4.1->yolov5==6.1.0) (3.8.1)\n",
            "Requirement already satisfied: pyasn1<0.5.0,>=0.4.6 in /usr/local/lib/python3.7/dist-packages (from pyasn1-modules>=0.2.1->google-auth<3,>=1.6.3->tensorboard>=2.4.1->yolov5==6.1.0) (0.4.8)\n",
            "Requirement already satisfied: oauthlib>=3.0.0 in /usr/local/lib/python3.7/dist-packages (from requests-oauthlib>=0.7.0->google-auth-oauthlib<0.5,>=0.4.1->tensorboard>=2.4.1->yolov5==6.1.0) (3.2.0)\n",
            "Requirement already satisfied: torch in /usr/local/lib/python3.7/dist-packages (from thop->yolov5==6.1.0) (1.9.1)\n"
          ]
        }
      ]
    },
    {
      "cell_type": "code",
      "source": [
        "# from deepsparse.cpu import cpu_vnni_compatible\n",
        "# print(f\"VNNI available: {cpu_vnni_compatible()}\")"
      ],
      "metadata": {
        "id": "8U0bTgiX-8t0"
      },
      "execution_count": null,
      "outputs": []
    },
    {
      "cell_type": "code",
      "source": [
        "# !sparseml.yolov5.train --help"
      ],
      "metadata": {
        "id": "uamlnrqdAMfC"
      },
      "execution_count": null,
      "outputs": []
    },
    {
      "cell_type": "code",
      "source": [
        "from google.colab import drive\n",
        "drive.mount('/content/drive/')"
      ],
      "metadata": {
        "id": "jPbY8VxezEr6",
        "colab": {
          "base_uri": "https://localhost:8080/"
        },
        "outputId": "e91237d2-8e96-4687-eba6-7bfb4f2a390b"
      },
      "execution_count": null,
      "outputs": [
        {
          "output_type": "stream",
          "name": "stdout",
          "text": [
            "Drive already mounted at /content/drive/; to attempt to forcibly remount, call drive.mount(\"/content/drive/\", force_remount=True).\n"
          ]
        }
      ]
    },
    {
      "cell_type": "code",
      "source": [
        "!pip install -q roboflow\n",
        "from roboflow import Roboflow\n",
        "rf = Roboflow(model_format=\"yolov5\", notebook=\"roboflow-yolov5\")"
      ],
      "metadata": {
        "colab": {
          "base_uri": "https://localhost:8080/"
        },
        "id": "4WqdDtJ_A2TW",
        "outputId": "aa54aaeb-64d6-46fc-fbc2-19183aee8ee1"
      },
      "execution_count": null,
      "outputs": [
        {
          "output_type": "stream",
          "name": "stdout",
          "text": [
            "\u001b[?25l\r\u001b[K     |██▎                             | 10 kB 27.4 MB/s eta 0:00:01\r\u001b[K     |████▌                           | 20 kB 31.4 MB/s eta 0:00:01\r\u001b[K     |██████▊                         | 30 kB 39.3 MB/s eta 0:00:01\r\u001b[K     |█████████                       | 40 kB 44.8 MB/s eta 0:00:01\r\u001b[K     |███████████▎                    | 51 kB 48.7 MB/s eta 0:00:01\r\u001b[K     |█████████████▌                  | 61 kB 53.2 MB/s eta 0:00:01\r\u001b[K     |███████████████▊                | 71 kB 51.2 MB/s eta 0:00:01\r\u001b[K     |██████████████████              | 81 kB 42.2 MB/s eta 0:00:01\r\u001b[K     |████████████████████▎           | 92 kB 44.2 MB/s eta 0:00:01\r\u001b[K     |██████████████████████▌         | 102 kB 46.7 MB/s eta 0:00:01\r\u001b[K     |████████████████████████▊       | 112 kB 46.7 MB/s eta 0:00:01\r\u001b[K     |███████████████████████████     | 122 kB 46.7 MB/s eta 0:00:01\r\u001b[K     |█████████████████████████████▎  | 133 kB 46.7 MB/s eta 0:00:01\r\u001b[K     |███████████████████████████████▌| 143 kB 46.7 MB/s eta 0:00:01\r\u001b[K     |████████████████████████████████| 145 kB 46.7 MB/s \n",
            "\u001b[K     |████████████████████████████████| 178 kB 66.8 MB/s \n",
            "\u001b[K     |████████████████████████████████| 1.1 MB 56.5 MB/s \n",
            "\u001b[K     |████████████████████████████████| 67 kB 5.0 MB/s \n",
            "\u001b[K     |████████████████████████████████| 54 kB 2.8 MB/s \n",
            "\u001b[K     |████████████████████████████████| 138 kB 65.2 MB/s \n",
            "\u001b[K     |████████████████████████████████| 62 kB 1.4 MB/s \n",
            "\u001b[?25h  Building wheel for roboflow (setup.py) ... \u001b[?25l\u001b[?25hdone\n",
            "  Building wheel for wget (setup.py) ... \u001b[?25l\u001b[?25hdone\n",
            "\u001b[31mERROR: pip's dependency resolver does not currently take into account all the packages that are installed. This behaviour is the source of the following dependency conflicts.\n",
            "torchtext 0.13.1 requires torch==1.12.1, but you have torch 1.9.1 which is incompatible.\u001b[0m\n",
            "upload and label your dataset, and get an API KEY here: https://app.roboflow.com/?model=yolov5&ref=roboflow-yolov5\n"
          ]
        }
      ]
    },
    {
      "cell_type": "code",
      "source": [
        "from roboflow import Roboflow\n",
        "rf = Roboflow(api_key=\"pQ87Iksv2e5pdUTxwNf8\")\n",
        "project = rf.workspace(\"recycle-2uipy\").project(\"recycle-w2o7u\")\n",
        "dataset = project.version(1).download(\"yolov5\")"
      ],
      "metadata": {
        "colab": {
          "base_uri": "https://localhost:8080/"
        },
        "id": "1MKJUkwtA3LG",
        "outputId": "91b706bc-0a71-47a1-e7b0-08874cdc4dc9"
      },
      "execution_count": null,
      "outputs": [
        {
          "output_type": "stream",
          "name": "stdout",
          "text": [
            "loading Roboflow workspace...\n",
            "loading Roboflow project...\n",
            "Downloading Dataset Version Zip in recycle-1 to yolov5pytorch: 100% [328396284 / 328396284] bytes\n"
          ]
        },
        {
          "output_type": "stream",
          "name": "stderr",
          "text": [
            "Extracting Dataset Version Zip to recycle-1 in yolov5pytorch:: 100%|██████████| 18928/18928 [00:03<00:00, 5679.79it/s]\n"
          ]
        }
      ]
    },
    {
      "cell_type": "code",
      "source": [
        "# this is the YAML file Roboflow wrote for us that we're loading into this notebook with our data\n",
        "%cat {dataset.location}/data.yaml"
      ],
      "metadata": {
        "id": "ZFkXhf8KBLlq"
      },
      "execution_count": null,
      "outputs": []
    },
    {
      "cell_type": "code",
      "source": [
        "# # define number of classes based on YAML\n",
        "# import yaml\n",
        "# with open(dataset.location + \"/data.yaml\", 'r') as stream:\n",
        "#     num_classes = str(yaml.safe_load(stream)['nc'])"
      ],
      "metadata": {
        "id": "-pQUqytZBcDj"
      },
      "execution_count": null,
      "outputs": []
    },
    {
      "cell_type": "code",
      "source": [
        "#this is the model configuration we will use for our tutorial \n",
        "# %cat /content/yolov5/models/yolov5s.yaml"
      ],
      "metadata": {
        "id": "rphlb_jjBcpM"
      },
      "execution_count": null,
      "outputs": []
    },
    {
      "cell_type": "code",
      "source": [
        "# sparseml.yolov5.train --data VOC.yaml --cfg models_v5.0/yolov5s.yaml \n",
        "# --weights zoo:cv/detection/yolov5-s/pytorch/ultralytics/coco/pruned-aggressive_96?recipe_type=transfer\n",
        "#  --hyp data/hyps/hyp.finetune.yaml --recipe zoo:cv/detection/yolov5-s/pytorch/ultralytics/coco/pruned-aggressive_96?recipe_type=transfer\n",
        "\n",
        "# !sparseml.yolov5.train --data /content/drive/MyDrive/RecycleIT/DATA/MyData/train-test.yaml \\\n",
        "                      #  --weights zoo:cv/detection/yolov5-s/pytorch/ultralytics/coco/pruned-aggressive_96?recipe_type=transfer \\\n",
        "!sparseml.yolov5.train --data {dataset.location}/data.yaml  --cfg models_v5.0/yolov5s.yaml \\\n",
        "                       --weights /content/drive/MyDrive/RecycleIT/MODEL/yolo5_sparssified/epoch50.pt \\\n",
        "                       --hyp data/hyps/hyp.finetune.yaml \\\n",
        "                       --recipe zoo:cv/detection/yolov5-s/pytorch/ultralytics/coco/pruned-aggressive_96?recipe_type=transfer --batch 16\\\n",
        "                       --epochs 100  --imgsz  416 --save-period 5"
      ],
      "metadata": {
        "colab": {
          "base_uri": "https://localhost:8080/"
        },
        "id": "KzDTtAxN-j4N",
        "outputId": "6c436a0a-b095-4548-de62-42fb75c6deed"
      },
      "execution_count": null,
      "outputs": [
        {
          "output_type": "stream",
          "name": "stdout",
          "text": [
            "\u001b[34m\u001b[1mtrain: \u001b[0mweights=/content/drive/MyDrive/RecycleIT/MODEL/yolo5_sparssified/epoch50.pt, cfg=models_v5.0/yolov5s.yaml, data=/content/recycle-1/data.yaml, data_path=, hyp=data/hyps/hyp.finetune.yaml, epochs=100, batch_size=16, gradient_accum_steps=1, imgsz=416, rect=False, resume=False, nosave=False, noval=False, noautoanchor=False, evolve=None, bucket=, cache=None, image_weights=False, device=, multi_scale=False, single_cls=False, optimizer=SGD, sync_bn=False, workers=8, project=yolov5_runs/train, name=exp, exist_ok=False, quad=False, cos_lr=False, label_smoothing=0.0, patience=0, freeze=[0], save_period=5, local_rank=-1, entity=None, upload_dataset=False, bbox_interval=-1, artifact_alias=latest, recipe=zoo:cv/detection/yolov5-s/pytorch/ultralytics/coco/pruned-aggressive_96?recipe_type=transfer, disable_ema=False, max_train_steps=-1, max_eval_steps=-1, one_shot=False\n",
            "\u001b[34m\u001b[1mgithub: \u001b[0mskipping check (not a git repository), for updates see https://github.com/ultralytics/yolov5\n",
            "fatal: not a git repository (or any of the parent directories): .git\n",
            "YOLOv5 🚀 2022-9-20 torch 1.9.1+cu102 CUDA:0 (Tesla T4, 15110MiB)\n",
            "\n",
            "\u001b[34m\u001b[1mhyperparameters: \u001b[0mlr0=0.0032, lrf=0.12, momentum=0.843, weight_decay=0.00036, warmup_epochs=2.0, warmup_momentum=0.5, warmup_bias_lr=0.05, box=0.0296, cls=0.243, cls_pw=0.631, obj=0.301, obj_pw=0.911, iou_t=0.2, anchor_t=2.91, fl_gamma=0.0, hsv_h=0.0138, hsv_s=0.664, hsv_v=0.464, degrees=0.373, translate=0.245, scale=0.898, shear=0.602, perspective=0.0, flipud=0.00856, fliplr=0.5, mosaic=1.0, mixup=0.243, copy_paste=0.0\n",
            "\u001b[34m\u001b[1mWeights & Biases: \u001b[0mrun 'pip install wandb' to automatically track and visualize YOLOv5 🚀 runs (RECOMMENDED)\n",
            "\u001b[34m\u001b[1mTensorBoard: \u001b[0mStart with 'tensorboard --logdir yolov5_runs/train', view at http://localhost:6006/\n",
            "Overriding model.yaml nc=80 with nc=4\n",
            "\n",
            "                 from  n    params  module                                  arguments                     \n",
            "  0                -1  1      3520  yolov5.models.common.Focus              [3, 32, 3]                    \n",
            "  1                -1  1     18560  yolov5.models.common.Conv               [32, 64, 3, 2]                \n",
            "  2                -1  1     18816  yolov5.models.common.C3                 [64, 64, 1]                   \n",
            "  3                -1  1     73984  yolov5.models.common.Conv               [64, 128, 3, 2]               \n",
            "  4                -1  3    156928  yolov5.models.common.C3                 [128, 128, 3]                 \n",
            "  5                -1  1    295424  yolov5.models.common.Conv               [128, 256, 3, 2]              \n",
            "  6                -1  3    625152  yolov5.models.common.C3                 [256, 256, 3]                 \n",
            "  7                -1  1   1180672  yolov5.models.common.Conv               [256, 512, 3, 2]              \n",
            "  8                -1  1    656896  yolov5.models.common.SPP                [512, 512, [5, 9, 13]]        \n",
            "  9                -1  1   1182720  yolov5.models.common.C3                 [512, 512, 1, False]          \n",
            " 10                -1  1    131584  yolov5.models.common.Conv               [512, 256, 1, 1]              \n",
            " 11                -1  1         0  torch.nn.modules.upsampling.Upsample    [None, 2, 'nearest']          \n",
            " 12           [-1, 6]  1         0  yolov5.models.common.Concat             [1]                           \n",
            " 13                -1  1    361984  yolov5.models.common.C3                 [512, 256, 1, False]          \n",
            " 14                -1  1     33024  yolov5.models.common.Conv               [256, 128, 1, 1]              \n",
            " 15                -1  1         0  torch.nn.modules.upsampling.Upsample    [None, 2, 'nearest']          \n",
            " 16           [-1, 4]  1         0  yolov5.models.common.Concat             [1]                           \n",
            " 17                -1  1     90880  yolov5.models.common.C3                 [256, 128, 1, False]          \n",
            " 18                -1  1    147712  yolov5.models.common.Conv               [128, 128, 3, 2]              \n",
            " 19          [-1, 14]  1         0  yolov5.models.common.Concat             [1]                           \n",
            " 20                -1  1    296448  yolov5.models.common.C3                 [256, 256, 1, False]          \n",
            " 21                -1  1    590336  yolov5.models.common.Conv               [256, 256, 3, 2]              \n",
            " 22          [-1, 10]  1         0  yolov5.models.common.Concat             [1]                           \n",
            " 23                -1  1   1182720  yolov5.models.common.C3                 [512, 512, 1, False]          \n",
            " 24      [17, 20, 23]  1     24273  yolov5.models.yolo.Detect               [4, [[10, 13, 16, 30, 33, 23], [30, 61, 62, 45, 59, 119], [116, 90, 156, 198, 373, 326]], [128, 256, 512]]\n",
            "overriding activations in model to Hardswish\n",
            "YOLOv5s summary: 319 layers, 7071633 parameters, 7071633 gradients, 16.5 GFLOPs\n",
            "\n",
            "downloading...: 100% 5.90k/5.90k [00:00<00:00, 4.66MB/s]\n",
            "Transferred 360/361 items from /content/drive/MyDrive/RecycleIT/MODEL/yolo5_sparssified/epoch50.pt\n",
            "Scaled weight_decay = 0.00036\n",
            "\u001b[34m\u001b[1moptimizer:\u001b[0m SGD with parameter groups 59 weight (no decay), 62 weight, 62 bias\n",
            "\u001b[34m\u001b[1malbumentations: \u001b[0mBlur(always_apply=False, p=0.01, blur_limit=(3, 7)), MedianBlur(always_apply=False, p=0.01, blur_limit=(3, 7)), ToGray(always_apply=False, p=0.01), CLAHE(always_apply=False, p=0.01, clip_limit=(1, 4.0), tile_grid_size=(8, 8))\n",
            "\u001b[34m\u001b[1mtrain: \u001b[0mScanning 'recycle-1/train/labels' images and labels...8265 found, 0 missing, 0 empty, 0 corrupt: 100% 8265/8265 [00:03<00:00, 2094.07it/s]\n",
            "\u001b[34m\u001b[1mtrain: \u001b[0mNew cache created: recycle-1/train/labels.cache\n",
            "\u001b[34m\u001b[1mval: \u001b[0mScanning 'recycle-1/valid/labels' images and labels...718 found, 0 missing, 2 empty, 0 corrupt: 100% 718/718 [00:00<00:00, 785.58it/s]\n",
            "\u001b[34m\u001b[1mval: \u001b[0mNew cache created: recycle-1/valid/labels.cache\n",
            "Plotting labels to yolov5_runs/train/exp/labels.jpg... \n",
            "\n",
            "\u001b[34m\u001b[1mAutoAnchor: \u001b[0m3.48 anchors/target, 0.997 Best Possible Recall (BPR). Current anchors are a good fit to dataset ✅\n",
            "Image sizes 416 train, 416 val\n",
            "Using 2 dataloader workers\n",
            "Logging results to \u001b[1myolov5_runs/train/exp\u001b[0m\n",
            "Starting training for 100 epochs...\n",
            "Disabling LR scheduler, managing LR using SparseML recipe\n",
            "Overriding number of epochs from SparseML manager to 240\n",
            "\n",
            "     Epoch   gpu_mem       box       obj       cls    labels  img_size\n",
            "    51/239     2.21G   0.01206  0.001995  0.001584        23       416: 100% 517/517 [02:44<00:00,  3.14it/s]\n",
            "               Class     Images     Labels          P          R     mAP@.5 mAP@.5:.95: 100% 23/23 [00:04<00:00,  5.03it/s]\n",
            "                 all        718        759      0.982      0.978      0.987      0.819\n",
            "\n",
            "     Epoch   gpu_mem       box       obj       cls    labels  img_size\n",
            "    52/239     2.75G   0.01195  0.001979  0.001532        18       416: 100% 517/517 [02:37<00:00,  3.28it/s]\n",
            "               Class     Images     Labels          P          R     mAP@.5 mAP@.5:.95: 100% 23/23 [00:04<00:00,  4.99it/s]\n",
            "                 all        718        759       0.98      0.973      0.987       0.82\n",
            "\n",
            "     Epoch   gpu_mem       box       obj       cls    labels  img_size\n",
            "    53/239     2.75G   0.01208  0.002004  0.001626        21       416: 100% 517/517 [02:38<00:00,  3.25it/s]\n",
            "               Class     Images     Labels          P          R     mAP@.5 mAP@.5:.95: 100% 23/23 [00:04<00:00,  4.98it/s]\n",
            "                 all        718        759      0.979      0.975      0.986      0.817\n",
            "\n",
            "     Epoch   gpu_mem       box       obj       cls    labels  img_size\n",
            "    54/239     2.78G   0.01203  0.001998  0.001568        26       416: 100% 517/517 [02:38<00:00,  3.27it/s]\n",
            "               Class     Images     Labels          P          R     mAP@.5 mAP@.5:.95: 100% 23/23 [00:04<00:00,  4.89it/s]\n",
            "                 all        718        759       0.98      0.979      0.987       0.82\n",
            "\n",
            "     Epoch   gpu_mem       box       obj       cls    labels  img_size\n",
            "    55/239      2.8G   0.01207  0.001979  0.001612        22       416: 100% 517/517 [02:40<00:00,  3.21it/s]\n",
            "               Class     Images     Labels          P          R     mAP@.5 mAP@.5:.95: 100% 23/23 [00:04<00:00,  5.04it/s]\n",
            "                 all        718        759      0.981      0.974      0.987      0.816\n",
            "\n",
            "     Epoch   gpu_mem       box       obj       cls    labels  img_size\n",
            "    56/239      2.8G   0.01204  0.002006  0.001545        24       416: 100% 517/517 [02:38<00:00,  3.25it/s]\n",
            "               Class     Images     Labels          P          R     mAP@.5 mAP@.5:.95: 100% 23/23 [00:04<00:00,  4.99it/s]\n",
            "                 all        718        759      0.977      0.977      0.987      0.819\n",
            "\n",
            "     Epoch   gpu_mem       box       obj       cls    labels  img_size\n",
            "    57/239      2.8G   0.01198  0.001986   0.00147        24       416: 100% 517/517 [02:39<00:00,  3.23it/s]\n",
            "               Class     Images     Labels          P          R     mAP@.5 mAP@.5:.95: 100% 23/23 [00:04<00:00,  5.00it/s]\n",
            "                 all        718        759      0.981      0.976      0.987      0.819\n",
            "\n",
            "     Epoch   gpu_mem       box       obj       cls    labels  img_size\n",
            "    58/239      2.8G   0.01193  0.001961  0.001468        21       416: 100% 517/517 [02:41<00:00,  3.21it/s]\n",
            "               Class     Images     Labels          P          R     mAP@.5 mAP@.5:.95: 100% 23/23 [00:04<00:00,  5.10it/s]\n",
            "                 all        718        759       0.98      0.972      0.987      0.816\n",
            "\n",
            "     Epoch   gpu_mem       box       obj       cls    labels  img_size\n",
            "    59/239      2.8G   0.01207  0.001992  0.001545        25       416: 100% 517/517 [02:37<00:00,  3.27it/s]\n",
            "               Class     Images     Labels          P          R     mAP@.5 mAP@.5:.95: 100% 23/23 [00:04<00:00,  5.10it/s]\n",
            "                 all        718        759       0.97      0.979      0.987      0.816\n",
            "\n",
            "     Epoch   gpu_mem       box       obj       cls    labels  img_size\n",
            "    60/239      2.8G   0.01199  0.001975  0.001546        21       416: 100% 517/517 [02:39<00:00,  3.24it/s]\n",
            "               Class     Images     Labels          P          R     mAP@.5 mAP@.5:.95: 100% 23/23 [00:04<00:00,  5.05it/s]\n",
            "                 all        718        759      0.979      0.973      0.987       0.82\n",
            "\n",
            "     Epoch   gpu_mem       box       obj       cls    labels  img_size\n",
            "    61/239      2.8G   0.01193  0.001998  0.001429        19       416: 100% 517/517 [02:40<00:00,  3.23it/s]\n",
            "               Class     Images     Labels          P          R     mAP@.5 mAP@.5:.95: 100% 23/23 [00:04<00:00,  5.02it/s]\n",
            "                 all        718        759      0.978      0.972      0.987      0.822\n",
            "\n",
            "     Epoch   gpu_mem       box       obj       cls    labels  img_size\n",
            "    62/239      2.8G   0.01198  0.001982  0.001432        32       416:  80% 416/517 [02:09<00:31,  3.21it/s]\n",
            "Traceback (most recent call last):\n",
            "  File \"/usr/local/bin/sparseml.yolov5.train\", line 8, in <module>\n",
            "    sys.exit(train())\n",
            "  File \"/usr/local/lib/python3.7/dist-packages/sparseml/yolov5/scripts.py\", line 47, in train\n",
            "    train_run(**vars(opt))\n",
            "  File \"/usr/local/lib/python3.7/dist-packages/yolov5/train.py\", line 747, in run\n",
            "    main(opt)\n",
            "  File \"/usr/local/lib/python3.7/dist-packages/yolov5/train.py\", line 649, in main\n",
            "    train(opt.hyp, opt, device, callbacks)\n",
            "  File \"/usr/local/lib/python3.7/dist-packages/yolov5/train.py\", line 410, in train\n",
            "    scaler.scale(loss).backward()\n",
            "  File \"/usr/local/lib/python3.7/dist-packages/torch/_tensor.py\", line 255, in backward\n",
            "    torch.autograd.backward(self, gradient, retain_graph, create_graph, inputs=inputs)\n",
            "  File \"/usr/local/lib/python3.7/dist-packages/torch/autograd/__init__.py\", line 149, in backward\n",
            "    allow_unreachable=True, accumulate_grad=True)  # allow_unreachable flag\n",
            "KeyboardInterrupt\n"
          ]
        }
      ]
    },
    {
      "cell_type": "code",
      "source": [
        "!sparseml.yolov5.export_onnx -h"
      ],
      "metadata": {
        "colab": {
          "base_uri": "https://localhost:8080/"
        },
        "id": "k_Km7AhS3Urh",
        "outputId": "cb0c626b-3f4c-4fc7-ba03-0a94523f94fb"
      },
      "execution_count": null,
      "outputs": [
        {
          "output_type": "stream",
          "name": "stdout",
          "text": [
            "Downloading https://ultralytics.com/assets/Arial.ttf to /root/.config/Ultralytics/Arial.ttf...\n",
            "usage: sparseml.yolov5.export_onnx [-h] [--data DATA] [--data-path DATA_PATH]\n",
            "                                   [--weights WEIGHTS [WEIGHTS ...]]\n",
            "                                   [--num-export-samples NUM_EXPORT_SAMPLES]\n",
            "                                   [--imgsz IMGSZ [IMGSZ ...]]\n",
            "                                   [--batch-size BATCH_SIZE] [--device DEVICE]\n",
            "                                   [--half] [--inplace] [--train] [--optimize]\n",
            "                                   [--int8] [--dynamic] [--simplify]\n",
            "                                   [--opset OPSET] [--verbose]\n",
            "                                   [--workspace WORKSPACE] [--nms]\n",
            "                                   [--agnostic-nms]\n",
            "                                   [--topk-per-class TOPK_PER_CLASS]\n",
            "                                   [--topk-all TOPK_ALL]\n",
            "                                   [--iou-thres IOU_THRES]\n",
            "                                   [--conf-thres CONF_THRES] [--remove-grid]\n",
            "                                   [--include INCLUDE [INCLUDE ...]]\n",
            "                                   [--no_convert_qat]\n",
            "\n",
            "optional arguments:\n",
            "  -h, --help            show this help message and exit\n",
            "  --data DATA           dataset.yaml path\n",
            "  --data-path DATA_PATH\n",
            "                        path to dataset to overwrite the path in dataset.yaml\n",
            "  --weights WEIGHTS [WEIGHTS ...]\n",
            "                        model.pt path(s)\n",
            "  --num-export-samples NUM_EXPORT_SAMPLES\n",
            "                        number of sample inputs/outputs to export\n",
            "  --imgsz IMGSZ [IMGSZ ...], --img IMGSZ [IMGSZ ...], --img-size IMGSZ [IMGSZ ...]\n",
            "                        image (h, w)\n",
            "  --batch-size BATCH_SIZE\n",
            "                        batch size\n",
            "  --device DEVICE       cuda device, i.e. 0 or 0,1,2,3 or cpu\n",
            "  --half                FP16 half-precision export\n",
            "  --inplace             set YOLOv5 Detect() inplace=True\n",
            "  --train               model.train() mode\n",
            "  --optimize            TorchScript: optimize for mobile\n",
            "  --int8                CoreML/TF INT8 quantization\n",
            "  --dynamic             ONNX/TF: dynamic axes\n",
            "  --simplify            ONNX: simplify model\n",
            "  --opset OPSET         ONNX: opset version\n",
            "  --verbose             TensorRT: verbose log\n",
            "  --workspace WORKSPACE\n",
            "                        TensorRT: workspace size (GB)\n",
            "  --nms                 TF: add NMS to model\n",
            "  --agnostic-nms        TF: add agnostic NMS to model\n",
            "  --topk-per-class TOPK_PER_CLASS\n",
            "                        TF.js NMS: topk per class to keep\n",
            "  --topk-all TOPK_ALL   TF.js NMS: topk for all classes to keep\n",
            "  --iou-thres IOU_THRES\n",
            "                        TF.js NMS: IoU threshold\n",
            "  --conf-thres CONF_THRES\n",
            "                        TF.js NMS: confidence threshold\n",
            "  --remove-grid         remove export of Detect() layer grid\n",
            "  --include INCLUDE [INCLUDE ...]\n",
            "                        torchscript, onnx, openvino, engine, coreml,\n",
            "                        saved_model, pb, tflite, edgetpu, tfjs\n",
            "  --no_convert_qat      if specified, exports of torch QAT graphs will skip\n",
            "                        conversion to a fully quantized representation.\n",
            "                        Default is False\n"
          ]
        }
      ]
    },
    {
      "cell_type": "code",
      "source": [
        "!sparseml.yolov5.export_onnx --weights /content/drive/MyDrive/RecycleIT/MODEL/yolo5_sparssified/epoch60.pt \\\n",
        "                            --simplify\n"
      ],
      "metadata": {
        "colab": {
          "base_uri": "https://localhost:8080/"
        },
        "id": "BbP2z_u82zor",
        "outputId": "41aa9c13-171c-479b-e8fd-50d29fb4b2f9"
      },
      "execution_count": null,
      "outputs": [
        {
          "output_type": "stream",
          "name": "stdout",
          "text": [
            "\u001b[34m\u001b[1mexport: \u001b[0mdata=../usr/local/lib/python3.7/dist-packages/sparseml/yolov5/data/coco128.yaml, data_path=, weights=['/content/drive/MyDrive/RecycleIT/MODEL/yolo5_sparssified/epoch60.pt'], num_export_samples=0, imgsz=[640, 640], batch_size=1, device=cpu, half=False, inplace=False, train=False, optimize=False, int8=False, dynamic=False, simplify=True, opset=12, verbose=False, workspace=4, nms=False, agnostic_nms=False, topk_per_class=100, topk_all=100, iou_thres=0.45, conf_thres=0.25, remove_grid=False, include=['torchscript', 'onnx'], no_convert_qat=False\n",
            "\u001b[34m\u001b[1mexport: \u001b[0mdata=../usr/local/lib/python3.7/dist-packages/sparseml/yolov5/data/coco128.yaml, data_path=, weights=../usr/local/lib/python3.7/dist-packages/sparseml/yolov5/yolov5s.pt, num_export_samples=0, imgsz=[640, 640], batch_size=1, device=cpu, half=False, inplace=False, train=False, optimize=False, int8=False, dynamic=False, simplify=False, opset=12, verbose=False, workspace=4, nms=False, agnostic_nms=False, topk_per_class=100, topk_all=100, iou_thres=0.45, conf_thres=0.25, remove_grid=False, include=['torchscript', 'onnx'], no_convert_qat=False\n",
            "fatal: not a git repository (or any of the parent directories): .git\n",
            "YOLOv5 🚀 2022-9-20 torch 1.9.1+cu102 CPU\n",
            "\n",
            "Fusing layers... \n",
            "YOLOv5s summary: 260 layers, 7062001 parameters, 0 gradients, 16.3 GFLOPs\n",
            "\n",
            "\u001b[34m\u001b[1mPyTorch:\u001b[0m starting from /content/drive/MyDrive/RecycleIT/MODEL/yolo5_sparssified/epoch60.pt with output shape (1, 25200, 9) (108.6 MB)\n",
            "\n",
            "\u001b[34m\u001b[1mTorchScript:\u001b[0m starting export with torch 1.9.1+cu102...\n",
            "\u001b[34m\u001b[1mTorchScript:\u001b[0m export success, saved as /content/drive/MyDrive/RecycleIT/MODEL/yolo5_sparssified/epoch60.torchscript (27.5 MB)\n",
            "\n",
            "\u001b[34m\u001b[1mONNX:\u001b[0m starting export with onnx 1.10.1...\n",
            "\u001b[34m\u001b[1mONNX:\u001b[0m simplifying with onnx-simplifier 0.4.8...\n",
            "\u001b[34m\u001b[1mONNX:\u001b[0m export success, saved as /content/drive/MyDrive/RecycleIT/MODEL/yolo5_sparssified/epoch60.onnx (27.4 MB)\n",
            "Created deployment folder at /content/drive/MyDrive/RecycleIT/MODEL/deployment\n",
            "Saved model.onnx in the deployment folder at /content/drive/MyDrive/RecycleIT/MODEL/deployment/epoch60.onnx\n",
            "\n",
            "Export complete (11.37s)\n",
            "Results saved to \u001b[1m/content/drive/MyDrive/RecycleIT/MODEL/yolo5_sparssified\u001b[0m\n",
            "Detect:          python detect.py --weights /content/drive/MyDrive/RecycleIT/MODEL/yolo5_sparssified/epoch60.onnx\n",
            "PyTorch Hub:     model = torch.hub.load('ultralytics/yolov5', 'custom', '/content/drive/MyDrive/RecycleIT/MODEL/yolo5_sparssified/epoch60.onnx')\n",
            "Validate:        python val.py --weights /content/drive/MyDrive/RecycleIT/MODEL/yolo5_sparssified/epoch60.onnx\n",
            "Visualize:       https://netron.app\n"
          ]
        }
      ]
    },
    {
      "cell_type": "code",
      "source": [],
      "metadata": {
        "id": "LoV8HNqeMAyV"
      },
      "execution_count": null,
      "outputs": []
    }
  ]
}